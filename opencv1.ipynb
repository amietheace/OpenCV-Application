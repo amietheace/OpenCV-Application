{
 "cells": [
  {
   "cell_type": "code",
   "execution_count": null,
   "metadata": {},
   "outputs": [],
   "source": [
    "import cv2\n",
    "import numpy as np\n",
    "import matplotlib.pyplot as plt"
   ]
  },
  {
   "cell_type": "code",
   "execution_count": 3,
   "metadata": {},
   "outputs": [],
   "source": [
    "imgpath = 'D:\\\\CV_and_NLP\\\\opencv\\\\dataset\\\\lena_color_256.tif'\n",
    "img = cv2.imread(imgpath)"
   ]
  },
  {
   "cell_type": "code",
   "execution_count": 4,
   "metadata": {},
   "outputs": [],
   "source": [
    "cv2.imshow('Lena', img)\n",
    "cv2.waitKey(0)\n",
    "cv2.destroyAllWindows()"
   ]
  },
  {
   "cell_type": "code",
   "execution_count": 5,
   "metadata": {},
   "outputs": [
    {
     "data": {
      "text/plain": [
       "(256, 256, 3)"
      ]
     },
     "execution_count": 5,
     "metadata": {},
     "output_type": "execute_result"
    }
   ],
   "source": [
    "img.shape"
   ]
  },
  {
   "cell_type": "code",
   "execution_count": 6,
   "metadata": {},
   "outputs": [],
   "source": [
    "cv2.namedWindow('Lena', cv2.WINDOW_AUTOSIZE)\n",
    "cv2.imshow('Lena', img)\n",
    "cv2.waitKey(0)\n",
    "cv2.destroyWindow('Lena')"
   ]
  },
  {
   "cell_type": "code",
   "execution_count": 7,
   "metadata": {},
   "outputs": [],
   "source": [
    "outpath = 'D:\\\\CV_and_NLP\\\\opencv\\\\output\\\\lena_c.jpg'\n",
    "\n",
    "cv2.imshow('Lena', img)\n",
    "cv2.imwrite(outpath, img)\n",
    "cv2.waitKey(0)\n",
    "cv2.destroyAllWindows()\n"
   ]
  },
  {
   "cell_type": "code",
   "execution_count": null,
   "metadata": {},
   "outputs": [],
   "source": [
    "def emptyfunction():\n",
    "    pass\n",
    "\n",
    "img1 = np.zeros((512,512,3), np.uint8)\n",
    "windowName = 'OpenCV BGR Color Palette'\n",
    "cv2.namedWindow(windowName)\n",
    "\n",
    "cv2.createTrackbar('B', windowName, 0, 255, emptyfunction)\n",
    "cv2.createTrackbar('G', windowName, 0, 255, emptyfunction)\n",
    "cv2.createTrackbar('R', windowName, 0, 255, emptyfunction)\n",
    "\n",
    "while(True):\n",
    "    cv2.imshow(windowName, img1)\n",
    "\n",
    "    if cv2.waitKey(1) == 27:\n",
    "        break\n",
    "    blue = cv2.getTrackbar('B', windowName)\n",
    "    green = cv2.getTrackbar('G', windowName)\n",
    "    red = cv2.getTrackbar('R', windowName)\n",
    "    \n",
    "    img1[:] = [blue, green, red]\n",
    "    print(blue,green,red)\n",
    "       \n",
    "cv2.destroyAllWindows()\n",
    "    \n",
    "\n",
    "            \n",
    "            \n",
    "            \n",
    "\n"
   ]
  },
  {
   "cell_type": "code",
   "execution_count": null,
   "metadata": {},
   "outputs": [],
   "source": []
  }
 ],
 "metadata": {
  "kernelspec": {
   "display_name": "Python 3",
   "language": "python",
   "name": "python3"
  },
  "language_info": {
   "codemirror_mode": {
    "name": "ipython",
    "version": 3
   },
   "file_extension": ".py",
   "mimetype": "text/x-python",
   "name": "python",
   "nbconvert_exporter": "python",
   "pygments_lexer": "ipython3",
   "version": "3.7.3"
  }
 },
 "nbformat": 4,
 "nbformat_minor": 2
}
